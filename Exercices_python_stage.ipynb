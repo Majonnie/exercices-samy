{
  "metadata": {
    "language_info": {
      "codemirror_mode": {
        "name": "python",
        "version": 3
      },
      "file_extension": ".py",
      "mimetype": "text/x-python",
      "name": "python",
      "nbconvert_exporter": "python",
      "pygments_lexer": "ipython3",
      "version": "3.8"
    },
    "kernelspec": {
      "name": "python",
      "display_name": "Python (Pyodide)",
      "language": "python"
    }
  },
  "nbformat_minor": 4,
  "nbformat": 4,
  "cells": [
    {
      "cell_type": "markdown",
      "source": "# Exercices Python Stage",
      "metadata": {}
    },
    {
      "cell_type": "markdown",
      "source": "Cette feuille d'exercices te permettra d'assimiler des notions de base de la programmation, dans le langage Python.<br>\nChaque exercice te présentera de nouvelles notions, que tu devras utiliser pour résoudre le problème posé.",
      "metadata": {}
    },
    {
      "cell_type": "markdown",
      "source": "### Exercice 1 :\nLes variables\n\nUne variable est un élément permettant de stocker une valeur. Dans cet exercice, tu vas apprendre à créer des variables et à les afficher.",
      "metadata": {}
    },
    {
      "cell_type": "code",
      "source": "#Exemple :\n\na = \"Bonjour\" #La variable a contient la valeur \"Bonjour\"\nprint(a) #La fonction print permet d'afficher une valeur.\n\nb = \"à tous\" #La variable b contient la valeur \"à tous\"\nprint(b)\n\nprint(a + \" \" + b)",
      "metadata": {
        "trusted": true
      },
      "execution_count": 14,
      "outputs": [
        {
          "name": "stdout",
          "text": "Bonjour\nà tous\nBonjour à tous\n",
          "output_type": "stream"
        }
      ]
    },
    {
      "cell_type": "markdown",
      "source": "Dans la case suivante, crée une variable `a` contenant le mot \"Hello\" et une variable `b` contenant le mot \"World\".<br>\nEn te basant sur l'exemple ci-dessus, utilise ces deux variable et la fonction print pour afficher \"Hello World\".",
      "metadata": {}
    },
    {
      "cell_type": "code",
      "source": "",
      "metadata": {},
      "execution_count": null,
      "outputs": []
    },
    {
      "cell_type": "markdown",
      "source": "### Exercice 2 :\nLes fonctions<br>\nUne fonction permet d'effectuer des actions et opérations séparemment du reste du code. Dans cet exercice, tu vas apprendre à créer une fonction, avec ou sans paramètres, et à l'appeler pour exécuter le code qu'elle contient.",
      "metadata": {}
    },
    {
      "cell_type": "code",
      "source": "#Exemple 1 :\n\ndef premiere_fonction(): #Le mot clé def permet de créer une fonction. Les parenthèses vides indiquent que cette fonction n'attend pas de paramètres.\n    return \"Voici le retour de la premiere fonction !\" #valeur retournée\n    \nprint(premiere_fonction()) #Affichage de la valeur retournée par la fonction premiere_fonction",
      "metadata": {
        "trusted": true
      },
      "execution_count": 15,
      "outputs": [
        {
          "name": "stdout",
          "text": "Voici le retour de la premiere fonction !\n",
          "output_type": "stream"
        }
      ]
    },
    {
      "cell_type": "code",
      "source": "#Exemple 2 :\n\ndef deuxieme_fonction(nombre): #Cette fonction attend un paramètre nombre.\n    return nombre + 2\n\nprint(deuxieme_fonction(3)) #La fonction devrait retourner 3 + 2 donc 5\nprint(deuxieme_fonction(5)) #La fonction devrait retourner 5 + 2 donc 7",
      "metadata": {
        "trusted": true
      },
      "execution_count": 24,
      "outputs": [
        {
          "name": "stdout",
          "text": "5\n7\n",
          "output_type": "stream"
        }
      ]
    },
    {
      "cell_type": "markdown",
      "source": "Dans la case suivante, crée une fonction `couleur_chat` prenant deux paramètres : `nom` et `couleur`.<br>\nLa fonction devra indiquer la couleur du chat avec une phrase. Par exemple, si nom = \"Myrtille\" et couleur = \"roux\", la fonction retournera \"Le chat Myrtille est roux\".",
      "metadata": {}
    },
    {
      "cell_type": "code",
      "source": "",
      "metadata": {},
      "execution_count": null,
      "outputs": []
    },
    {
      "cell_type": "markdown",
      "source": "### Exercice 3 :\n\nLes types de données<br>\nLa plupart des langages de programmations possèdent plusieurs types de données de base. Dans cet exercice, tu verras les types int, float, bool, str et list.",
      "metadata": {}
    },
    {
      "cell_type": "markdown",
      "source": "Présentation des types int et float (les nombres) :<br><br>\n\n- Le type int (soit Integer) représente un nombre entier (positif ou négatif).\n\n- Le type float représente un nombre décimal (positif ou négatif).\n\nOn peut effectuer des opérations sur ces deux types de données (addition, soustraction, multiplication, division).\n",
      "metadata": {}
    },
    {
      "cell_type": "code",
      "source": "#Exemple\n\nprint(2 + 2.5) #Addition\nprint(5 - 1) #Soustraction\nprint(-6 * 7) #Multiplication\nprint(8 / 2) #Division\n\n#On peut aussi utiliser la division euclidienne, pour récupérer le quotient et le reste d'une opération.\nprint(10 // 3) #Quotient de la division euclidienne de 10 par 3\nprint(10 % 3) #Reste de la division euclidienne de 10 par 3",
      "metadata": {
        "trusted": true
      },
      "execution_count": 30,
      "outputs": [
        {
          "name": "stdout",
          "text": "4.5\n4\n-42\n4.0\n3\n1\n",
          "output_type": "stream"
        }
      ]
    },
    {
      "cell_type": "markdown",
      "source": "Présentation du type bool :<br><br>\n\nLe type bool (soit Boolean ou Booléen) n'a que deux valeurs possible : true (vrai) ou false (faux).<br>\nIl est utile lors de l'utilisation d'instruction conditionnelles (notion que nous aborderons plus bas).",
      "metadata": {}
    },
    {
      "cell_type": "code",
      "source": "nombre = 2\nb = nombre == 5 #le booléen b contiendra true si le nombre vaut bien 5, et false sinon.\nprint(b)\n\nb = nombre == 2 #le booléen b contiendra true si le nombre vaut bien 2, et false sinon.\nprint(b)",
      "metadata": {
        "trusted": true
      },
      "execution_count": 9,
      "outputs": [
        {
          "name": "stdout",
          "text": "False\nTrue\n",
          "output_type": "stream"
        }
      ]
    },
    {
      "cell_type": "markdown",
      "source": "Présentation du type str (chaîne de caractères) :<br><br>\n\nLe type str (soit String) représente une chaîne de caractères, du texte.<br>\nLes chaînes de caractères peuvent être concaténée, c'est-à-dire qu'on peut les \"coller\" les une aux autres. Le type str est aussi un type itérable, c'est-à-dire que l'on peut boucler dedans (on verra cela plus en détail dans l'exercice sur les boucles).\n\n",
      "metadata": {}
    },
    {
      "cell_type": "code",
      "source": "#Exemple :\n\n#Exemple de variables de type str\ns1 = \"Je suis\"\ns2 = \"une chaîne\"\ns3 = \"concaténée.\"\n\n#Exemples de concaténation des 3 chaînes de caractères\nprint(s1, s2, s3) #Lors d'une concaténation avec une virgule, des espaces sont ajoutés par défaut.\nprint(s1 + \" \" + s2 + \" \" + s3) #Lors d'une concaténation avec le symbole +, les espaces ne sont pas ajoutés par défaut, on doit les ajouter si besoin.",
      "metadata": {
        "trusted": true
      },
      "execution_count": 27,
      "outputs": [
        {
          "name": "stdout",
          "text": "Je suis une chaîne concaténée.\nJe suis une chaîne concaténée.\n",
          "output_type": "stream"
        }
      ]
    },
    {
      "cell_type": "markdown",
      "source": "Présentation du type list (liste, aussi appelée tableau) :<br><br>\n\nLe type list représente une liste d'éléments (qui peuvent être de n'impote quel type).<br>\nIl est possible d'effectuer différentes opérations sur une liste, comme ajouter, supprimer ou modifier un élément. Le type list est lui aussi un type itérable.",
      "metadata": {}
    },
    {
      "cell_type": "code",
      "source": "#Exemple :\n\nliste = [] #Création d'une liste vide\nprint(liste)\n\nliste.append(20) #Ajout de l'élément 20 dans la liste\nprint(liste)\n\nliste.append(4)\nprint(liste)\n\nliste[0] = 10 #Modification du premier élément de la liste (dans la plupart des langages dont Python, le premier élément commence à 0)\nprint(liste)\n\nliste.pop(0) #Suppression du premier élément de la liste\nprint(liste)\n\n\n#Il est aussi possible de créer une liste contenant déjà des éléments :\nliste2 = [1, 2.3, \"texte\"]\nprint(liste2)\n\n#On peut accéder au dernier élément d'une liste avec l'indice -1 :\nprint(liste2[-1])",
      "metadata": {
        "trusted": true
      },
      "execution_count": 39,
      "outputs": [
        {
          "name": "stdout",
          "text": "[]\n[20]\n[20, 4]\n[10, 4]\n[4]\n[1, 2.3, 'texte']\ntexte\n",
          "output_type": "stream"
        }
      ]
    },
    {
      "cell_type": "markdown",
      "source": "Dans la case suivante :\n\n- Créer une variable `nombre` contenant le nombre 10 et affiche le résultat de sa division par 2.2.<br>\n- Créer ensuite trois variables contenant chacune le texte de ton choix, et concatène les pour former une phrase.<br>\n- Créer une liste vide `liste_nombres`, et ajoute-y les nombres -3, 7.9 et 10. Retire ensuite le deuxième élément (7.9), et modifier le dernier élément (10) en 41.<br>",
      "metadata": {}
    },
    {
      "cell_type": "code",
      "source": "",
      "metadata": {
        "trusted": true
      },
      "execution_count": null,
      "outputs": []
    },
    {
      "cell_type": "markdown",
      "source": "### Exercice 4 :",
      "metadata": {}
    },
    {
      "cell_type": "markdown",
      "source": "Les instruction conditionnelles (if, elif, else)<br>\nLes instruction conditionnelles permettent d'ajouter des conditions dans le code. Elles utilisent les mots clés if, elif (else if) et else.",
      "metadata": {}
    },
    {
      "cell_type": "code",
      "source": "#Exemple 1 :\n\ndef accepte_voiture(marque_voiture):\n    #Nous voulons faire en sorte que la voiture ne soit acceptée que si elle est de la marque Mercedes.\n\n    if marque_voiture == \"Mercedes\" : #si la marque de la voiture est Mercedes\n        return \"Voiture acceptée !\"\n    else : #sinon\n        return \"Cette voiture n'est pas acceptée.\" \n    \nprint(accepte_voiture(\"Mercedes\"))\n    \ndef groupe_animal (animal):\n    #Nous voulons déterminer si l'animal passé en paramètre est un félin, un canidé ou s'il appartient à un autre groupe d'animaux.\n    \n    if animal in [\"chat\", \"tigre\", \"lion\", \"lynx\"]: #si l'animal appartient à cette liste\n        return \"L'animal \" + animal + \"est un félin.\"\n    \n    elif animal in [\"chien\", \"loup\", \"renard\"]: #sinon si l'animal appartient à cette liste\n        return \"L'animal \" + animal + \" est un canidé.\"\n    \n    else: #sinon (si l'animal n'appartient à aucune des listes ci-dessus)\n        return \"L'animal \" + animal + \" n'appartient pas à un groupe pris en compte ici.\"\n\nprint(groupe_animal(\"chat\"))\nprint(groupe_animal(\"loup\"))\nprint(groupe_animal(\"canard\"))",
      "metadata": {
        "trusted": true
      },
      "execution_count": 51,
      "outputs": [
        {
          "name": "stdout",
          "text": "Voiture acceptée !\nL'animal chatest un félin.\nL'animal loup est un canidé.\nL'animal canard n'appartient pas à un groupe pris en compte ici.\n",
          "output_type": "stream"
        }
      ]
    },
    {
      "cell_type": "markdown",
      "source": "Dans la case suivante, créer une fonction check_taille prenant un paramètre `taille` qui retourne \"grand\" si la taille est strictement supérieure à 10, \"moyen\" si la taille est entre 5 et 10, et \"petit\" sinon.<br><br>\n\nPour information :<br>\n- Strictement supérieur : >\n- Supérieur ou égal : >=\n- Strictement inférieur : <\n- Inférieur ou égale : <=\n- Egal : ==\n- Différent : !=",
      "metadata": {}
    },
    {
      "cell_type": "code",
      "source": "",
      "metadata": {},
      "execution_count": null,
      "outputs": []
    },
    {
      "cell_type": "markdown",
      "source": "### Exercice 5 :\n\nLes boucles<br>\nDans cet exercice, tu vas apprendre à utiliser les boucles for et while.",
      "metadata": {}
    },
    {
      "cell_type": "markdown",
      "source": "Deux types de boucles :\n- for : ce type de boucle permet de parcourir un élément, et d'effectuer des actions pour chaque sous-élément de l'élément parcouru.\n- while : ce type de boucle permet d'effectuer des actions tant qu'une condition est respectée.",
      "metadata": {}
    },
    {
      "cell_type": "code",
      "source": "#Exemple boucles for :\n\nfor i in range (0, 10): #boucle parcourant les nombre de 0 à 9\n    print (\"Elément en cours :\", i)\n    \nfor i in [0, 1, 2, 3]: #parcourt d'une liste\n    print(i)\n",
      "metadata": {
        "trusted": true
      },
      "execution_count": 6,
      "outputs": [
        {
          "name": "stdout",
          "text": "Elément en cours : 0\nElément en cours : 1\nElément en cours : 2\nElément en cours : 3\nElément en cours : 4\nElément en cours : 5\nElément en cours : 6\nElément en cours : 7\nElément en cours : 8\nElément en cours : 9\n0\n1\n2\n3\n",
          "output_type": "stream"
        }
      ]
    },
    {
      "cell_type": "code",
      "source": "#Exemple boucles while :\n\nnombre = 0\nwhile nombre < 8: #la boucle continuera tant que la variable nombre sera strictement inférieure à 8.\n    print(\"Valeur de nombre actuelle :\", nombre)\n    nombre += 1\n\n#Cas des boucles infinies :\n#Lorsqu'on utilise des boucles while, il faut faire attention aux boucles infinies.\n#Ce sont des boucles qui ne s'arrêtent jamais car leur condition d'arrêt n'est jamais respectée.\n\nwhile True: #boucle infinie basique\n    print(\"Test boucle infinie\")\n    break #le mot clé break permet d'arrêter une boucle. Il est utilisé ici pour éviter ce bug.",
      "metadata": {
        "trusted": true
      },
      "execution_count": 4,
      "outputs": [
        {
          "name": "stdout",
          "text": "Valeur de nombre actuelle : 0\nValeur de nombre actuelle : 1\nValeur de nombre actuelle : 2\nValeur de nombre actuelle : 3\nValeur de nombre actuelle : 4\nValeur de nombre actuelle : 5\nValeur de nombre actuelle : 6\nValeur de nombre actuelle : 7\nTest boucle infinie\n",
          "output_type": "stream"
        }
      ]
    },
    {
      "cell_type": "markdown",
      "source": "Dans la case suivante, crée une fonction `test_liste` prenant en paramètre une liste `liste_mots` contenant plusieurs chaînes de caractères.<br>\nElle devra parcourir la liste, et retourner true si le mot \"canard\" est dedans, et false sinon.\n\nInformations :<br>\nLe mot clé `return` quitte automatiquement la fonction, et donc aussi la boucle dans laquelle il pourrait se situer.",
      "metadata": {}
    },
    {
      "cell_type": "code",
      "source": "",
      "metadata": {},
      "execution_count": null,
      "outputs": []
    }
  ]
}